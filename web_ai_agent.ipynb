{
 "cells": [
  {
   "cell_type": "code",
   "execution_count": null,
   "id": "e4ba0011",
   "metadata": {},
   "outputs": [
    {
     "name": "stdout",
     "output_type": "stream",
     "text": [
      "处理完成，共 1707 条记录，输出到 structured_urls.csv\n"
     ]
    }
   ],
   "source": [
    "import os\n",
    "import re\n",
    "import csv\n",
    "\n",
    "input_base_dir = './websites'  # 根目录\n",
    "output_csv = './ai_agents/structured_urls.csv'  # 输出CSV文件\n",
    "\n",
    "structured_data = []\n",
    "\n",
    "# 遍历 /websites/{domain} 目录\n",
    "for domain_dir in os.listdir(input_base_dir):\n",
    "    domain_path = os.path.join(input_base_dir, domain_dir)\n",
    "    if os.path.isdir(domain_path):\n",
    "        for filename in os.listdir(domain_path):\n",
    "            if filename.endswith('.txt'):\n",
    "                file_path = os.path.join(domain_path, filename)\n",
    "                with open(file_path, 'r', encoding='utf-8') as file:\n",
    "                    for line in file:\n",
    "                        line = line.strip()\n",
    "                        if not line:\n",
    "                            continue\n",
    "                        match = re.match(r'https?://web\\.archive\\.org/web/(\\d{4})\\d+/(https?://[^/]+)', line)\n",
    "                        if match:\n",
    "                            year = match.group(1)\n",
    "                            url = line\n",
    "                            domain = domain_dir\n",
    "                            structured_data.append([domain, year, url])\n",
    "\n",
    "# 去重并排序（可选）\n",
    "structured_data = sorted(set(map(tuple, structured_data)))\n",
    "\n",
    "# 写入CSV\n",
    "with open(output_csv, 'w', newline='', encoding='utf-8') as csvfile:\n",
    "    writer = csv.writer(csvfile)\n",
    "    writer.writerow(['domain', 'year', 'url'])  # 表头\n",
    "    writer.writerows(structured_data)\n",
    "\n",
    "print(f\"处理完成，共 {len(structured_data)} 条记录，输出到 {output_csv}\")"
   ]
  }
 ],
 "metadata": {
  "kernelspec": {
   "display_name": "myenv",
   "language": "python",
   "name": "python3"
  },
  "language_info": {
   "codemirror_mode": {
    "name": "ipython",
    "version": 3
   },
   "file_extension": ".py",
   "mimetype": "text/x-python",
   "name": "python",
   "nbconvert_exporter": "python",
   "pygments_lexer": "ipython3",
   "version": "3.11.11"
  }
 },
 "nbformat": 4,
 "nbformat_minor": 5
}
